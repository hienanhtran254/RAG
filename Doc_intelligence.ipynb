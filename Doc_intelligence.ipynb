{
 "cells": [
  {
   "cell_type": "markdown",
   "metadata": {},
   "source": [
    "This notebook using Prebuilt Layout operations with the Azure Form Recognizer client library. \n",
    "The async versions of the samples require Python 3.6 or later.\n",
    "\n",
    "To learn more, please visit the documentation - Quickstart: Form Recognizer Python client library SDKs\n",
    "https://learn.microsoft.com/azure/applied-ai-services/form-recognizer/quickstarts/get-started-v3-sdk-rest-api?view=doc-intel-3.1.0&pivots=programming-language-python"
   ]
  },
  {
   "cell_type": "markdown",
   "metadata": {},
   "source": [
    "# 1. Notebook set up"
   ]
  },
  {
   "cell_type": "code",
   "execution_count": 10,
   "metadata": {},
   "outputs": [],
   "source": [
    "# Import relevant packages\n",
    "import glob\n",
    "import json\n",
    "import os\n",
    "\n",
    "import pandas as pd\n",
    "import numpy as np\n",
    "\n",
    "# Import thrid party packages\n",
    "from azure.core.credentials import AzureKeyCredential\n",
    "from azure.ai.formrecognizer import DocumentAnalysisClient"
   ]
  },
  {
   "cell_type": "code",
   "execution_count": null,
   "metadata": {},
   "outputs": [],
   "source": [
    "# Set up API key\n",
    "endpoint = os.getenv(\"YOUR_FORM_RECOGNIZER_ENDPOINT\")\n",
    "key = os.getenv(\"YOUR_FORM_RECOGNIZER_KEY\")"
   ]
  },
  {
   "cell_type": "markdown",
   "metadata": {},
   "source": [
    "# 2. Save result to json file"
   ]
  },
  {
   "cell_type": "code",
   "execution_count": 5,
   "metadata": {},
   "outputs": [
    {
     "data": {
      "text/plain": [
       "['10q_mg_0923.pdf',\n",
       " '10q_mg_0922.pdf',\n",
       " '10k_mg_1222.pdf',\n",
       " '10q_citi_q42022.pdf',\n",
       " '10q_citi_q12023.pdf',\n",
       " '10q_mg_0322.pdf',\n",
       " '10q_citi_q12022.pdf',\n",
       " '10q_mg_0523.pdf',\n",
       " '10q_citi_q22023.pdf',\n",
       " '10q_citi_q22022.pdf',\n",
       " '10q_mg_0623.pdf',\n",
       " '10q_citi_q32023.pdf',\n",
       " '10q_citi_q32022.pdf',\n",
       " '10q_mg_0622.pdf']"
      ]
     },
     "execution_count": 5,
     "metadata": {},
     "output_type": "execute_result"
    }
   ],
   "source": [
    "mylist = [f[4:] for f in glob.glob(\"PDF/*.pdf\")]\n",
    "mylist"
   ]
  },
  {
   "cell_type": "code",
   "execution_count": 37,
   "metadata": {},
   "outputs": [],
   "source": [
    "def pdf_json(doc_name):\n",
    "    ############ get document intelligence\n",
    "    file_path = \"PDF/\" + doc_name\n",
    "    form = open(file_path, 'rb')\n",
    "    poller = document_analysis_client.begin_analyze_document(\"prebuilt-layout\", form)\n",
    "    result = poller.result()\n",
    "\n",
    "    ############ write to json file\n",
    "    result_dic = result.to_dict() # change to json format\n",
    "    new_file_name = 'Json/' + doc_name[:-4] + '.json' # just name without .pdf\n",
    "    with open(new_file_name, 'w') as f:\n",
    "        json.dump(result_dic, f)"
   ]
  },
  {
   "cell_type": "code",
   "execution_count": 38,
   "metadata": {},
   "outputs": [],
   "source": [
    "for pdf in mylist:\n",
    "    pdf_json(pdf)"
   ]
  },
  {
   "cell_type": "code",
   "execution_count": null,
   "metadata": {},
   "outputs": [],
   "source": []
  }
 ],
 "metadata": {
  "kernelspec": {
   "display_name": "base",
   "language": "python",
   "name": "python3"
  },
  "language_info": {
   "codemirror_mode": {
    "name": "ipython",
    "version": 3
   },
   "file_extension": ".py",
   "mimetype": "text/x-python",
   "name": "python",
   "nbconvert_exporter": "python",
   "pygments_lexer": "ipython3",
   "version": "3.12.1"
  }
 },
 "nbformat": 4,
 "nbformat_minor": 2
}
